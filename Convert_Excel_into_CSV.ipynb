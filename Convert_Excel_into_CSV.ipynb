{
  "nbformat": 4,
  "nbformat_minor": 0,
  "metadata": {
    "colab": {
      "provenance": [],
      "authorship_tag": "ABX9TyPoLeUk9YDCbVikc1fVSxdE",
      "include_colab_link": true
    },
    "kernelspec": {
      "name": "python3",
      "display_name": "Python 3"
    },
    "language_info": {
      "name": "python"
    }
  },
  "cells": [
    {
      "cell_type": "markdown",
      "metadata": {
        "id": "view-in-github",
        "colab_type": "text"
      },
      "source": [
        "<a href=\"https://colab.research.google.com/github/jsopesens/Data-Curation-SCRIPT/blob/main/Convert_Excel_into_CSV.ipynb\" target=\"_parent\"><img src=\"https://colab.research.google.com/assets/colab-badge.svg\" alt=\"Open In Colab\"/></a>"
      ]
    },
    {
      "cell_type": "markdown",
      "source": [
        "This code is designed to convert a file xlsx or xls into a CSV file.\n",
        "In case that the original excel file contains more than one sheet, this code will generate as much csv files as original sheets.\n",
        "This code is specially usefull in non-english countries due to the fact that manual convertions results in ';' separators instead of ','.\n",
        "\n",
        "\n",
        "---\n",
        "\n",
        "To test this script, go to the left navbar and click archives and go to 'content'>'sample_data'>'convert_excel_to_csv'. Place your excel file here.\n",
        "\n",
        "---\n",
        "\n",
        "\n",
        "If original file contains only one sheet, the name of the result csv will be \"original_file_name\".csv.\n",
        "In case of several sheets, the name will be \"original_file_name\"_\"sheet_name\".csv"
      ],
      "metadata": {
        "id": "2an6-R9xWkq7"
      }
    },
    {
      "cell_type": "markdown",
      "source": [
        "1. Import of the needed libraries"
      ],
      "metadata": {
        "id": "IB0WGwiFXlha"
      }
    },
    {
      "cell_type": "code",
      "execution_count": null,
      "metadata": {
        "id": "GpRpzdQoMXSM"
      },
      "outputs": [],
      "source": [
        "import os\n",
        "import pandas as pd\n"
      ]
    },
    {
      "cell_type": "markdown",
      "source": [
        "2. Initialize the global variables"
      ],
      "metadata": {
        "id": "vTJb8r0pgE8C"
      }
    },
    {
      "cell_type": "code",
      "source": [
        "FOLDER = 'sample_data/convert_excel_to_csv'"
      ],
      "metadata": {
        "id": "vv9V1mNBdMvc"
      },
      "execution_count": null,
      "outputs": []
    },
    {
      "cell_type": "markdown",
      "source": [
        "3. Find the required file"
      ],
      "metadata": {
        "id": "DtjncZg-XwbE"
      }
    },
    {
      "cell_type": "code",
      "source": [
        "def find_xls_file() -> str:\n",
        "    for file in os.listdir(FOLDER):\n",
        "        if file.endswith('.xls') or file.endswith('.xlsx'):\n",
        "            return file\n",
        "    raise FileNotFoundError(\"No file with .xls or .xlsx extension found in the folder.\")\n",
        "\n",
        "xls_file = find_xls_file()"
      ],
      "metadata": {
        "id": "QsCppfa2WiSj"
      },
      "execution_count": null,
      "outputs": []
    },
    {
      "cell_type": "markdown",
      "source": [
        "4. Evaluate content of the file"
      ],
      "metadata": {
        "id": "1oJ-o5ojYkl3"
      }
    },
    {
      "cell_type": "code",
      "source": [
        "def evaluate_engine(file: str) -> str:\n",
        "    file_extension = os.path.splitext(file)[1]\n",
        "\n",
        "    if file_extension == '.xlsx':\n",
        "        engine = 'openpyxl'\n",
        "    elif file_extension == '.xls':\n",
        "        engine = 'xlrd'\n",
        "    else:\n",
        "        raise ValueError(\"File format not supported. Must be .xls or .xlsx.\")\n",
        "\n",
        "    return engine\n",
        "\n",
        "\n",
        "def get_xls_active_sheet(xls_file: str) -> list:\n",
        "    try:\n",
        "        engine = evaluate_engine(f\"{FOLDER}/{xls_file}\")\n",
        "        excel_file = pd.ExcelFile(f\"{FOLDER}/{xls_file}\", engine=engine)\n",
        "        sheets_with_content = []\n",
        "\n",
        "        for sheet_name in excel_file.sheet_names:\n",
        "            df = pd.read_excel(excel_file, sheet_name=sheet_name)\n",
        "            if not df.empty:\n",
        "                sheets_with_content.append({\n",
        "                    'name': sheet_name,\n",
        "                    'content': df\n",
        "                })\n",
        "\n",
        "        if not sheets_with_content:\n",
        "            raise ValueError(\"Excel file does not contain sheets with data.\")\n",
        "\n",
        "        return sheets_with_content\n",
        "    except Exception as e:\n",
        "        raise RuntimeError(f\"Error reading Excel file: {e}\")\n",
        "\n",
        "\n",
        "xls_sheets = get_xls_active_sheet(xls_file)"
      ],
      "metadata": {
        "id": "8IEU7cF7Xjfh"
      },
      "execution_count": null,
      "outputs": []
    },
    {
      "cell_type": "markdown",
      "source": [
        "5. Convert content into new files"
      ],
      "metadata": {
        "id": "NdjuaDtbYlv6"
      }
    },
    {
      "cell_type": "code",
      "source": [
        "def convert_to_csv(xls_file: str, sheets: list) -> None:\n",
        "    base_name = os.path.splitext(f\"{FOLDER}/{xls_file}\")[0]\n",
        "\n",
        "    # If only one sheet on the original file\n",
        "    if len(sheets) == 1:\n",
        "        csv_file = f\"{base_name}.csv\"\n",
        "        sheets[0]['content'].to_csv(csv_file, index=False, encoding='utf-8')\n",
        "    # If multiple sheets on the original file\n",
        "    if len(sheets) > 1:\n",
        "        for sheet in sheets:\n",
        "            sheet_name = sheet['name']\n",
        "            csv_file = f\"{base_name}_{sheet_name}.csv\"\n",
        "            sheet['content'].to_csv(csv_file, index=False, encoding='utf-8')\n",
        "\n",
        "convert_to_csv(xls_file, xls_sheets)"
      ],
      "metadata": {
        "id": "sYdl-vpfYHG2"
      },
      "execution_count": null,
      "outputs": []
    }
  ]
}