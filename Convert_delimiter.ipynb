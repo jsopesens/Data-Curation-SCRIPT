{
  "nbformat": 4,
  "nbformat_minor": 0,
  "metadata": {
    "colab": {
      "provenance": [],
      "authorship_tag": "ABX9TyM1GWE6bNeTyLly+Kgxy72O",
      "include_colab_link": true
    },
    "kernelspec": {
      "name": "python3",
      "display_name": "Python 3"
    },
    "language_info": {
      "name": "python"
    }
  },
  "cells": [
    {
      "cell_type": "markdown",
      "metadata": {
        "id": "view-in-github",
        "colab_type": "text"
      },
      "source": [
        "<a href=\"https://colab.research.google.com/github/jsopesens/Data-Curation-SCRIPT/blob/main/Convert_delimiter.ipynb\" target=\"_parent\"><img src=\"https://colab.research.google.com/assets/colab-badge.svg\" alt=\"Open In Colab\"/></a>"
      ]
    },
    {
      "cell_type": "markdown",
      "source": [
        "1. Import necessary libraries"
      ],
      "metadata": {
        "id": "ypFeUd-ly_J0"
      }
    },
    {
      "cell_type": "code",
      "source": [
        "from os import listdir\n",
        "from csv import Sniffer"
      ],
      "metadata": {
        "id": "wIz7HytAiOMN"
      },
      "execution_count": null,
      "outputs": []
    },
    {
      "cell_type": "markdown",
      "source": [
        "2. Define the environment variables"
      ],
      "metadata": {
        "id": "C2Exc6qlzFqc"
      }
    },
    {
      "cell_type": "code",
      "source": [
        "PREV_DELIMITER = ';'\n",
        "NEW_DELIMITER = ','\n",
        "QUOTE_CHAR = '\"'\n",
        "FOLDER = 'sample_data/convert_delimiter/'"
      ],
      "metadata": {
        "id": "msyxJ3L3iOa4"
      },
      "execution_count": null,
      "outputs": []
    },
    {
      "cell_type": "markdown",
      "source": [
        "3. Search the csv files to work with"
      ],
      "metadata": {
        "id": "cttWdi3vzL8L"
      }
    },
    {
      "cell_type": "code",
      "source": [
        "def get_CSV_files()->list[str]:\n",
        "    '''\n",
        "    search in the same folder of this script for all the csv files\n",
        "    store the name of these files in the variable files and return this list\n",
        "    '''\n",
        "    try:\n",
        "        all_files = listdir(FOLDER)\n",
        "        return [filename for filename in all_files if filename.endswith('.csv')]\n",
        "    except FileNotFoundError as e:\n",
        "        print(f\"Error obtaining CSV files: {str(e)}\")\n",
        "\n",
        "CSV_files = get_CSV_files()"
      ],
      "metadata": {
        "id": "ud03nc-FiOgd"
      },
      "execution_count": null,
      "outputs": []
    },
    {
      "cell_type": "markdown",
      "source": [
        "4. convert the content of every file selected\n",
        "   and replace it on the original file"
      ],
      "metadata": {
        "id": "dosZBXbL0LKl"
      }
    },
    {
      "cell_type": "code",
      "source": [
        "def detect_delimiter(file_path: str) -> str:\n",
        "    \"\"\"\n",
        "    Detects the delimiter used in the CSV file\n",
        "    \"\"\"\n",
        "    with open(file_path, 'r') as file:\n",
        "        sample = ''.join(file.readline())\n",
        "        if not sample:\n",
        "            raise ValueError(\"The file is empty\")\n",
        "\n",
        "        try:\n",
        "            return Sniffer().sniff(sample).delimiter\n",
        "        except Exception as e:\n",
        "            raise ValueError(f\"Error detecting delimiter: {str(e)}\")\n",
        "\n",
        "\n",
        "def check_delimiter(delimiter: str) -> None:\n",
        "    '''\n",
        "    Check if the delimiter is the new one\n",
        "    Args:\n",
        "        delimiter (str): the delimiter to check\n",
        "    Returns:\n",
        "        None\n",
        "    '''\n",
        "    if delimiter == NEW_DELIMITER:\n",
        "        raise ValueError(\"The file already uses the new delimiter\")\n",
        "\n",
        "\n",
        "def convert_delimiter(filename: str) -> list:\n",
        "    try:\n",
        "        current_delimiter = detect_delimiter(file_path=filename)\n",
        "        check_delimiter(delimiter=current_delimiter)\n",
        "\n",
        "        with open(filename, 'r') as file:\n",
        "            lines = file.readlines()\n",
        "\n",
        "            newContent = []\n",
        "            for line in lines:\n",
        "                row = line.strip().split(PREV_DELIMITER)\n",
        "                newRow = map(parse_cell, row)\n",
        "                newContent.append(NEW_DELIMITER.join(newRow))\n",
        "        return newContent\n",
        "    except FileNotFoundError:\n",
        "        print('FILE NOT FOUND. CHECK FILE NAME')\n",
        "\n",
        "\n",
        "def parse_cell(cell: str) -> str:\n",
        "    '''\n",
        "    If cell have coma inside, csv will generate missfunctions.\n",
        "    This function wrap that cell. P.ex \"cell\"\n",
        "    Args:\n",
        "        cell (str): initial content of a cell\n",
        "    Returns:\n",
        "        cell (str): same content wraped with \"\" to aboid missfuntionalities\n",
        "    '''\n",
        "    try:\n",
        "        if NEW_DELIMITER in cell or PREV_DELIMITER in cell or QUOTE_CHAR in cell:\n",
        "            cell = (QUOTE_CHAR + cell.replace(QUOTE_CHAR,\n",
        "                    QUOTE_CHAR+QUOTE_CHAR) + QUOTE_CHAR)\n",
        "        return cell\n",
        "    except:\n",
        "        print('ERROR: Could not parse cell')\n",
        "\n",
        "\n",
        "def refill_CSV(file: str, content: list) -> None:\n",
        "    '''\n",
        "    generates or regenerates the File Document with the content\n",
        "    Args:\n",
        "        content (list): the content to fill the document\n",
        "    Use of Global variables:\n",
        "        FILENAME (str): the name of the file to extract data and refill\n",
        "    Returns:\n",
        "        None\n",
        "    '''\n",
        "\n",
        "    try:\n",
        "        with open(file, 'w') as file:\n",
        "            file.write('\\n'.join(content))\n",
        "    except:\n",
        "        print('ERROR: Could not write the file')\n",
        "\n",
        "\n",
        "try:\n",
        "    for file in CSV_files:\n",
        "        new_content = convert_delimiter(filename=f\"{FOLDER}{file}\")\n",
        "        refill_CSV(f\"{FOLDER}{file}\", new_content)\n",
        "        print(f'Delimiters of {file} successfully changed')\n",
        "except Exception as e:\n",
        "    print(f'Error: {e}')"
      ],
      "metadata": {
        "id": "mMedWfqRiOkT",
        "colab": {
          "base_uri": "https://localhost:8080/"
        },
        "outputId": "38dfc035-f58a-48bc-bc61-cd6a1f0c0156"
      },
      "execution_count": null,
      "outputs": [
        {
          "output_type": "stream",
          "name": "stdout",
          "text": [
            "Delimiters of Allue_2003_covadelpetroli.csv successfully changed\n"
          ]
        }
      ]
    }
  ]
}