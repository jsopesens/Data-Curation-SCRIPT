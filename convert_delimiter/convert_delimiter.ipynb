{
 "cells": [
  {
   "cell_type": "markdown",
   "metadata": {},
   "source": [
    "Import of the necessary libraries"
   ]
  },
  {
   "cell_type": "code",
   "execution_count": 16,
   "metadata": {},
   "outputs": [],
   "source": [
    "from os import listdir\n",
    "from csv import Sniffer"
   ]
  },
  {
   "cell_type": "markdown",
   "metadata": {},
   "source": [
    "Define necessary enviromental variables\n",
    "You can change these values if necessary.\n",
    "\n",
    "---\n",
    "\n",
    "- **PREV_DELIMITER** AND **NEW_DELIMITER** stands for the way of who csv separate cells.\n",
    "\n",
    "- **QUOTE_CHAR**                         stands for these cells where already are using coma or other textual element inside (p.ex for observation columns).\n",
    "\n",
    "- **FOLDER**                             stands for the place where the script searchs the csv files. By default this value is the same folder where this script is allocated."
   ]
  },
  {
   "cell_type": "code",
   "execution_count": 17,
   "metadata": {},
   "outputs": [],
   "source": [
    "PREV_DELIMITER = ','\n",
    "NEW_DELIMITER  = ';'\n",
    "QUOTE_CHAR     = '\"'\n",
    "FOLDER         = './'"
   ]
  },
  {
   "cell_type": "markdown",
   "metadata": {},
   "source": [
    "Search the files that have to work with"
   ]
  },
  {
   "cell_type": "code",
   "execution_count": 18,
   "metadata": {},
   "outputs": [],
   "source": [
    "def get_CSV_files()->list[str]:\n",
    "    '''\n",
    "    search in the same folder of this script for all the csv files\n",
    "    store the name of these files in the variable files and return this list\n",
    "    '''\n",
    "    try:\n",
    "        all_files = listdir(FOLDER)\n",
    "        return [filename for filename in all_files if filename.endswith('.csv')]\n",
    "    except Exception as e:\n",
    "        raise OSError(f\"Error obtaining CSV files: {str(e)}\")\n",
    "\n",
    "\n",
    "CSV_files = get_CSV_files()"
   ]
  },
  {
   "cell_type": "markdown",
   "metadata": {},
   "source": [
    "- For every file to work with, \n",
    "    1. detect the delimiter of the document\n",
    "    2. check if this delimiter is already the one we search\n",
    "    3. convert it\n",
    "    4. save it"
   ]
  },
  {
   "cell_type": "code",
   "execution_count": 19,
   "metadata": {},
   "outputs": [
    {
     "name": "stdout",
     "output_type": "stream",
     "text": [
      "Delimiters of mock_employees_department.csv successfully changed\n",
      "Delimiters of mock_employees_users.csv successfully changed\n",
      "Delimiters of mock_places_cities.csv successfully changed\n",
      "Delimiters of mock_places_location.csv successfully changed\n"
     ]
    }
   ],
   "source": [
    "def detect_delimiter(file_path: str) -> str:\n",
    "    '''\n",
    "    Detects the delimiter used in the CSV file\n",
    "    '''\n",
    "    with open(file_path, 'r') as file:\n",
    "        sample = ''.join(file.readline() for _ in range(1))\n",
    "        if not sample:\n",
    "            raise ValueError(\"The file is empty\")\n",
    "            \n",
    "        try:\n",
    "            return Sniffer().sniff(sample).delimiter\n",
    "        except Exception as e:\n",
    "            raise ValueError(f\"Error detecting delimiter: {str(e)}\")\n",
    "\n",
    "\n",
    "def check_delimiter(delimiter: str) -> None:\n",
    "    '''\n",
    "    Check if the delimiter is the new one\n",
    "    Args:\n",
    "        delimiter (str): the delimiter to check\n",
    "    Returns:\n",
    "        None\n",
    "    '''\n",
    "    if delimiter == NEW_DELIMITER:\n",
    "        raise ValueError(\"The file already uses the new delimiter\")\n",
    "\n",
    "\n",
    "def convert_delimiter(filename: str) -> list:\n",
    "    '''\n",
    "    Convert the delimiter of the CSV file\n",
    "    Args:\n",
    "        filename (str): the name of the file to convert\n",
    "    Returns:\n",
    "        newContent (list): the content of the file with the new delimiter\n",
    "    '''\n",
    "    try:    \n",
    "        with open(filename, 'r') as file:\n",
    "            lines = file.readlines()\n",
    "\n",
    "            newContent = []\n",
    "            for line in lines:\n",
    "                row = line.strip().split(PREV_DELIMITER)\n",
    "                newRow = map(parse_cell, row)\n",
    "                newContent.append(NEW_DELIMITER.join(newRow))\n",
    "        return newContent\n",
    "    except FileNotFoundError:\n",
    "        print('FILE NOT FOUND. CHECK FILE NAME')\n",
    "\n",
    "\n",
    "def parse_cell(cell: str) -> str:\n",
    "    '''\n",
    "    If cell have coma inside, csv will generate missfunctions.\n",
    "    This function wrap that cell. P.ex \"cell\"\n",
    "    Args:\n",
    "        cell (str): initial content of a cell\n",
    "    Returns:\n",
    "        cell (str): same content wraped with \"\" to aboid missfuntionalities \n",
    "    '''\n",
    "    try:\n",
    "        if NEW_DELIMITER in cell or PREV_DELIMITER in cell or QUOTE_CHAR in cell:\n",
    "            cell = (QUOTE_CHAR + cell.replace(QUOTE_CHAR,\n",
    "                    QUOTE_CHAR+QUOTE_CHAR) + QUOTE_CHAR)\n",
    "        return cell\n",
    "    except:\n",
    "        print('ERROR: Could not parse cell')\n",
    "\n",
    "\n",
    "def refill_CSV(file: str, content: list) -> None:\n",
    "    '''\n",
    "    generates or regenerates the File Document with the content\n",
    "    Args:\n",
    "        content (list): the content to fill the document\n",
    "    Use of Global variables:\n",
    "        FILENAME (str): the name of the file to extract data and refill\n",
    "    Returns:\n",
    "        None\n",
    "    '''\n",
    "\n",
    "    try:\n",
    "        with open(file, 'w') as file:\n",
    "            file.write('\\n'.join(content))\n",
    "    except:\n",
    "        print('ERROR: Could not write the file')\n",
    "\n",
    "\n",
    "try:\n",
    "    for file in CSV_files:\n",
    "        current_delimiter = detect_delimiter(file_path=file)\n",
    "        check_delimiter(delimiter=current_delimiter)\n",
    "        \n",
    "        new_content = convert_delimiter(filename=file)\n",
    "        refill_CSV(file, new_content)\n",
    "        print(f'Delimiters of {file} successfully changed')\n",
    "except Exception as e:\n",
    "    print(f'Error: {e}')"
   ]
  }
 ],
 "metadata": {
  "kernelspec": {
   "display_name": "Python 3",
   "language": "python",
   "name": "python3"
  },
  "language_info": {
   "codemirror_mode": {
    "name": "ipython",
    "version": 3
   },
   "file_extension": ".py",
   "mimetype": "text/x-python",
   "name": "python",
   "nbconvert_exporter": "python",
   "pygments_lexer": "ipython3",
   "version": "3.10.0"
  }
 },
 "nbformat": 4,
 "nbformat_minor": 2
}
