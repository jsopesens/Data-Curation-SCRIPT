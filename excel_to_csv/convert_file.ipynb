{
 "cells": [
  {
   "cell_type": "markdown",
   "metadata": {},
   "source": [
    "This file contains the code needed to convert a Excel file into a CSV file with a ´,´ delimiter. "
   ]
  },
  {
   "cell_type": "markdown",
   "metadata": {},
   "source": [
    "Import the needed dependencies."
   ]
  },
  {
   "cell_type": "code",
   "execution_count": 1,
   "metadata": {},
   "outputs": [],
   "source": [
    "import os\n",
    "import pandas as pd"
   ]
  },
  {
   "cell_type": "markdown",
   "metadata": {},
   "source": [
    "Find the Excel file in the folder. If not found, throw an error."
   ]
  },
  {
   "cell_type": "code",
   "execution_count": 2,
   "metadata": {},
   "outputs": [],
   "source": [
    "def find_xls_files():\n",
    "    xls_files = []\n",
    "    for file in os.listdir():\n",
    "        if file.endswith('.xls') or file.endswith('.xlsx'):\n",
    "            xls_files.append(file)\n",
    "    if not xls_files:\n",
    "        raise FileNotFoundError(\"File with .xls or .xlsx extension not found.\")\n",
    "    return xls_files\n",
    "\n",
    "xls_files = find_xls_files()"
   ]
  },
  {
   "cell_type": "code",
   "execution_count": 3,
   "metadata": {},
   "outputs": [],
   "source": [
    "def evaluate_engine(file: str) -> str:\n",
    "    file_extension = os.path.splitext(file)[1]\n",
    "\n",
    "    if file_extension == '.xlsx':\n",
    "        engine = 'openpyxl'\n",
    "    elif file_extension == '.xls':\n",
    "        engine = 'xlrd'\n",
    "    else:\n",
    "        raise ValueError(\"File format not supported. Must be .xls or .xlsx.\")\n",
    "    \n",
    "    return engine\n",
    "\n",
    "\n",
    "def get_xls_active_sheet(xls_file: str) -> list:\n",
    "    try:\n",
    "        engine = evaluate_engine(xls_file)\n",
    "        excel_file = pd.ExcelFile(xls_file, engine=engine)\n",
    "        sheets_with_content = []\n",
    "        \n",
    "        for sheet_name in excel_file.sheet_names:\n",
    "            df = pd.read_excel(excel_file, sheet_name=sheet_name)\n",
    "            if not df.empty:\n",
    "                sheets_with_content.append({\n",
    "                    'name': sheet_name,\n",
    "                    'content': df\n",
    "                })\n",
    "        \n",
    "        if not sheets_with_content:\n",
    "            raise ValueError(\"Excel file does not contain sheets with data.\")\n",
    "            \n",
    "        return sheets_with_content\n",
    "    except Exception as e:\n",
    "        raise RuntimeError(f\"Error reading Excel file: {e}\")\n"
   ]
  },
  {
   "cell_type": "code",
   "execution_count": 4,
   "metadata": {},
   "outputs": [],
   "source": [
    "\n",
    "def convert_to_csv(xls_file:str, sheets:list) -> None:\n",
    "    base_name = os.path.splitext(xls_file)[0]\n",
    "    \n",
    "    if len(sheets) == 1:\n",
    "        csv_file = f\"{base_name}.csv\"\n",
    "        sheets[0]['content'].to_csv(csv_file, index=False, encoding='utf-8')\n",
    "        print(f\"File converted: {csv_file}\")\n",
    "    if len(sheets) > 1:\n",
    "        for sheet in sheets:\n",
    "            sheet_name = sheet['name']\n",
    "            csv_file = f\"{base_name}_{sheet_name}.csv\"\n",
    "            sheet['content'].to_csv(csv_file, index=False, encoding='utf-8')\n",
    "            print(f\"File converted: {csv_file}\")\n"
   ]
  },
  {
   "cell_type": "code",
   "execution_count": 5,
   "metadata": {},
   "outputs": [
    {
     "name": "stdout",
     "output_type": "stream",
     "text": [
      "\n",
      "Processing file: mock_employees.xlsx\n",
      "File converted: mock_employees_users.csv\n",
      "File converted: mock_employees_department.csv\n",
      "\n",
      "Processing file: mock_places.xlsx\n",
      "File converted: mock_places_cities.csv\n",
      "File converted: mock_places_location.csv\n",
      "\n",
      "Process completed successfully.\n"
     ]
    }
   ],
   "source": [
    "for xls_file in xls_files:\n",
    "    print(f\"\\nProcessing file: {xls_file}\")\n",
    "    xls_sheets = get_xls_active_sheet(xls_file)\n",
    "    convert_to_csv(xls_file, xls_sheets)\n",
    "print(\"\\nProcess completed successfully.\")"
   ]
  }
 ],
 "metadata": {
  "kernelspec": {
   "display_name": "Python 3",
   "language": "python",
   "name": "python3"
  },
  "language_info": {
   "codemirror_mode": {
    "name": "ipython",
    "version": 3
   },
   "file_extension": ".py",
   "mimetype": "text/x-python",
   "name": "python",
   "nbconvert_exporter": "python",
   "pygments_lexer": "ipython3",
   "version": "3.10.0"
  }
 },
 "nbformat": 4,
 "nbformat_minor": 2
}
